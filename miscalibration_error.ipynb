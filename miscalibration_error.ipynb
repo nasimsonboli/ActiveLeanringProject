{
 "cells": [
  {
   "cell_type": "code",
   "execution_count": 1,
   "metadata": {},
   "outputs": [],
   "source": [
    "import pandas as pd\n",
    "import numpy as np"
   ]
  },
  {
   "cell_type": "markdown",
   "metadata": {},
   "source": [
    "Miscalibration Error, uses Kullback-Leibler (KL) Divergence to measure the difference between the preference distribution across all the item categories in a user profile and the distribution in the user's recommendation set. Both are based on the distribution of item categories $c$ for each item $i$, denoted by $p(c|i)$."
   ]
  },
  {
   "cell_type": "markdown",
   "metadata": {
    "ExecuteTime": {
     "end_time": "2021-07-22T19:24:18.040830Z",
     "start_time": "2021-07-22T19:24:18.027307Z"
    }
   },
   "source": [
    "- $p(c|u)$: the distribution over categories $c$ of the set of items $\\mathcal{H}_u$ interacted with by user $u$ in the past.\n",
    "\n",
    "    \\begin{equation}\\label{input_preference}\n",
    "        p(c|u) = \\frac{\\sum_{i \\in \\mathcal{H}_u} w_{u, i} \\cdot p(c|i)}{\\sum_{i \\in \\mathcal{H}_u} w_{u, i}},\n",
    "    \\end{equation}\n",
    "\n",
    "    where $w_{i,u}$ is the weight of each item $i$, e.g. how recently it was liked or clicked on, or its popularity or rank.\n",
    "    \n",
    "- $q(c|u)$: the distribution across categories $c$ of the list of items recommended to user $u$.\n",
    "\n",
    "    \\begin{equation}\n",
    "        q(c|u) = \\frac{\\sum_{i \\in \\mathcal{I}_u} w_{r(i)} \\cdot p(c|i)}{\\sum_{i \\in \\mathcal{I}_u} w_{r(i)}},\n",
    "    \\end{equation}\n",
    "    \n",
    "    where $\\mathcal{I}_u$ is the set of recommended items and $w_{r(i)}$ is the weight of an item and can be measured by its rank $r(i)$ in the recommendation list.\n",
    "\n",
    "\n",
    "KL-divergence is used to measure the difference between these two probability distributions, or the divergence of $p$ from $q$. KL-divergence is denoted by:\n",
    "\n",
    "\\begin{equation} \\label{kl}\n",
    "MC_{KL}(p||q) = KL(p||\\tilde{q})= \\sum_{c \\in C}{p(c|u)\\log\\frac{p(c|u)}{\\tilde{q}(c|u)}},\n",
    "\\end{equation}\n",
    "\n",
    "where $p(c|u)$ is the target distribution. If $q$ is similar to $p$, $MC_{KL}$ will take small values, and in the case of perfect calibration, it is 0. $MC_{KL}$ diverges if a category $c$ is $q(c|u)=0$ and $p(c|u)>0$, so instead we use:\n",
    "\\begin{equation}\n",
    "    \\tilde{q}(c|u) = (1 - \\alpha) \\cdot q(c|u) + \\alpha \\cdot p(c|u),\n",
    "\\end{equation}\n",
    "\n",
    "where $0 < \\alpha < 1$, so that $q \\approx \\tilde{q}$. We set $\\alpha = 0.01$ in this experiment.\n",
    "\n",
    "We rename this metric to $MC_{KL}$ instead of $C_{KL}$ which is described in \\cite{steck2018calibrated}, since it specifies the degree to which we have miscalibration in our recommendations and it is more in line with the values that KL-divergence takes. For example, if $p$ and $q$ are very similar, KL-divergence takes lower values, so miscalibration is low and vice versa.\n",
    "\n",
    "$MC_{KL}$ is sensitive to small differences when $p$ is small. For example, if a user liked a category 2\\% of the time and it is recommended to her 1\\% of the time, $MC_{KL}$ considers it a significant change compared to a situation where a user likes a category 50\\% of the time, while it's recommended to her 49\\% of the time.\n",
    "\n"
   ]
  },
  {
   "cell_type": "code",
   "execution_count": 2,
   "metadata": {
    "ExecuteTime": {
     "end_time": "2021-07-22T19:37:31.317764Z",
     "start_time": "2021-07-22T19:37:31.313823Z"
    }
   },
   "outputs": [],
   "source": [
    "def KullbackLeiblerDivergence(interactDist, recommendedDist):\n",
    "    import numpy as np\n",
    "    \n",
    "    alpha = 0.01 \n",
    "    # not really a tuning parameter, \n",
    "    # it's there to make the computation more numerically stable.\n",
    "    \n",
    "    klDive = 0.0\n",
    "    \n",
    "    # over all the genres\n",
    "    for i in range(len(interactDist)):\n",
    "        # By convention, 0 * ln(0/a) = 0, so we can ignore keys in q that aren't in p\n",
    "        if interactDist[i] == 0.0:\n",
    "            continue\n",
    "            \n",
    "        # if q = recommendationDist and p = interactedDist, q-hat is the adjusted q.\n",
    "        # given that KL divergence diverges if recommendationDist or q is zero, \n",
    "        # we instead use q-hat = (1-alpha).q + alpha . p\n",
    "        # q(g|u) & p(g|u)\n",
    "        recommendedDist[i] = (1 - alpha) * recommendedDist[i] + alpha * interactDist[i]\n",
    "        \n",
    "        klDive += interactDist[i] * np.log2(interactDist[i] / recommendedDist[i])\n",
    "\n",
    "    return klDive"
   ]
  },
  {
   "cell_type": "code",
   "execution_count": 3,
   "metadata": {
    "ExecuteTime": {
     "end_time": "2021-07-22T19:37:34.904604Z",
     "start_time": "2021-07-22T19:37:34.900094Z"
    }
   },
   "outputs": [],
   "source": [
    "def ComputeGenreDistribution(itemList, p_g_i_final):\n",
    "    '''\n",
    "    either we pass the list of items from the training data/obsereved movies for each user,\n",
    "    or we pass the list of recommended items to a user to create the distribution\n",
    "    '''\n",
    "    return p_g_i_final[itemList,:].sum(axis=0) / len(itemList)\n"
   ]
  },
  {
   "cell_type": "markdown",
   "metadata": {},
   "source": [
    "- The first distrubution is calculated based on the training dataset. The q(g|i) that is used to calculate the p(g|u) and q(g|u).\n",
    "\n",
    "- p(g|u) is the sum of p(g|i) in the obsereved movies divided by the number of observed items by the user.\n",
    "\n",
    "- p(g|i) is the distribution of the genres for each movie. for each movie, there are several genres are assigned to it. They have the same probabilities so it sums up to 1. So, we calculate the probabilities of genres for each movie separately.\n"
   ]
  },
  {
   "cell_type": "markdown",
   "metadata": {},
   "source": [
    "# Testing this function through an example"
   ]
  },
  {
   "cell_type": "code",
   "execution_count": 5,
   "metadata": {
    "ExecuteTime": {
     "end_time": "2021-07-22T19:38:38.630267Z",
     "start_time": "2021-07-22T19:38:36.822561Z"
    }
   },
   "outputs": [],
   "source": [
    "# import pandas as pd\n",
    "\n",
    "# col = [\"movie id\",'movie title', 'release date', 'video release date', 'IMDb URL',\n",
    "#            'unknown', 'Action', 'Adventure', 'Animation', \"Children's\", 'Comedy', 'Crime', \n",
    "#            'Documentary', 'Drama', 'Fantasy', 'Film-Noir', 'Horror', 'Musical', 'Mystery',\n",
    "#            'Romance', 'Sci-Fi', 'Thriller', 'War', 'Western']\n",
    "\n",
    "# uitem = pd.read_csv('movielens-100k-dataset/ml-100k/uitem.csv', sep=\";\", skiprows=1,\n",
    "#                     engine = \"python\", names=col)\n",
    "# # uitem.head(3)"
   ]
  },
  {
   "cell_type": "code",
   "execution_count": 6,
   "metadata": {
    "ExecuteTime": {
     "end_time": "2021-07-22T19:38:39.561553Z",
     "start_time": "2021-07-22T19:38:39.522323Z"
    }
   },
   "outputs": [
    {
     "data": {
      "text/html": [
       "<div>\n",
       "<style scoped>\n",
       "    .dataframe tbody tr th:only-of-type {\n",
       "        vertical-align: middle;\n",
       "    }\n",
       "\n",
       "    .dataframe tbody tr th {\n",
       "        vertical-align: top;\n",
       "    }\n",
       "\n",
       "    .dataframe thead th {\n",
       "        text-align: right;\n",
       "    }\n",
       "</style>\n",
       "<table border=\"1\" class=\"dataframe\">\n",
       "  <thead>\n",
       "    <tr style=\"text-align: right;\">\n",
       "      <th></th>\n",
       "      <th>movie id</th>\n",
       "      <th>unknown</th>\n",
       "      <th>Action</th>\n",
       "      <th>Adventure</th>\n",
       "      <th>Animation</th>\n",
       "      <th>Children's</th>\n",
       "      <th>Comedy</th>\n",
       "      <th>Crime</th>\n",
       "      <th>Documentary</th>\n",
       "      <th>Drama</th>\n",
       "      <th>Fantasy</th>\n",
       "      <th>Film-Noir</th>\n",
       "      <th>Horror</th>\n",
       "      <th>Musical</th>\n",
       "      <th>Mystery</th>\n",
       "      <th>Romance</th>\n",
       "      <th>Sci-Fi</th>\n",
       "      <th>Thriller</th>\n",
       "      <th>War</th>\n",
       "      <th>Western</th>\n",
       "    </tr>\n",
       "  </thead>\n",
       "  <tbody>\n",
       "    <tr>\n",
       "      <th>0</th>\n",
       "      <td>1</td>\n",
       "      <td>0</td>\n",
       "      <td>0</td>\n",
       "      <td>0</td>\n",
       "      <td>1</td>\n",
       "      <td>1</td>\n",
       "      <td>1</td>\n",
       "      <td>0</td>\n",
       "      <td>0</td>\n",
       "      <td>0</td>\n",
       "      <td>0</td>\n",
       "      <td>0</td>\n",
       "      <td>0</td>\n",
       "      <td>0</td>\n",
       "      <td>0</td>\n",
       "      <td>0</td>\n",
       "      <td>0</td>\n",
       "      <td>0</td>\n",
       "      <td>0</td>\n",
       "      <td>0</td>\n",
       "    </tr>\n",
       "    <tr>\n",
       "      <th>1</th>\n",
       "      <td>2</td>\n",
       "      <td>0</td>\n",
       "      <td>1</td>\n",
       "      <td>1</td>\n",
       "      <td>0</td>\n",
       "      <td>0</td>\n",
       "      <td>0</td>\n",
       "      <td>0</td>\n",
       "      <td>0</td>\n",
       "      <td>0</td>\n",
       "      <td>0</td>\n",
       "      <td>0</td>\n",
       "      <td>0</td>\n",
       "      <td>0</td>\n",
       "      <td>0</td>\n",
       "      <td>0</td>\n",
       "      <td>0</td>\n",
       "      <td>1</td>\n",
       "      <td>0</td>\n",
       "      <td>0</td>\n",
       "    </tr>\n",
       "    <tr>\n",
       "      <th>2</th>\n",
       "      <td>3</td>\n",
       "      <td>0</td>\n",
       "      <td>0</td>\n",
       "      <td>0</td>\n",
       "      <td>0</td>\n",
       "      <td>0</td>\n",
       "      <td>0</td>\n",
       "      <td>0</td>\n",
       "      <td>0</td>\n",
       "      <td>0</td>\n",
       "      <td>0</td>\n",
       "      <td>0</td>\n",
       "      <td>0</td>\n",
       "      <td>0</td>\n",
       "      <td>0</td>\n",
       "      <td>0</td>\n",
       "      <td>0</td>\n",
       "      <td>1</td>\n",
       "      <td>0</td>\n",
       "      <td>0</td>\n",
       "    </tr>\n",
       "    <tr>\n",
       "      <th>3</th>\n",
       "      <td>4</td>\n",
       "      <td>0</td>\n",
       "      <td>1</td>\n",
       "      <td>0</td>\n",
       "      <td>0</td>\n",
       "      <td>0</td>\n",
       "      <td>1</td>\n",
       "      <td>0</td>\n",
       "      <td>0</td>\n",
       "      <td>1</td>\n",
       "      <td>0</td>\n",
       "      <td>0</td>\n",
       "      <td>0</td>\n",
       "      <td>0</td>\n",
       "      <td>0</td>\n",
       "      <td>0</td>\n",
       "      <td>0</td>\n",
       "      <td>0</td>\n",
       "      <td>0</td>\n",
       "      <td>0</td>\n",
       "    </tr>\n",
       "    <tr>\n",
       "      <th>4</th>\n",
       "      <td>5</td>\n",
       "      <td>0</td>\n",
       "      <td>0</td>\n",
       "      <td>0</td>\n",
       "      <td>0</td>\n",
       "      <td>0</td>\n",
       "      <td>0</td>\n",
       "      <td>1</td>\n",
       "      <td>0</td>\n",
       "      <td>1</td>\n",
       "      <td>0</td>\n",
       "      <td>0</td>\n",
       "      <td>0</td>\n",
       "      <td>0</td>\n",
       "      <td>0</td>\n",
       "      <td>0</td>\n",
       "      <td>0</td>\n",
       "      <td>1</td>\n",
       "      <td>0</td>\n",
       "      <td>0</td>\n",
       "    </tr>\n",
       "  </tbody>\n",
       "</table>\n",
       "</div>"
      ],
      "text/plain": [
       "   movie id  unknown  Action  Adventure  Animation  Children's  Comedy  Crime  \\\n",
       "0         1        0       0          0          1           1       1      0   \n",
       "1         2        0       1          1          0           0       0      0   \n",
       "2         3        0       0          0          0           0       0      0   \n",
       "3         4        0       1          0          0           0       1      0   \n",
       "4         5        0       0          0          0           0       0      1   \n",
       "\n",
       "   Documentary  Drama  Fantasy  Film-Noir  Horror  Musical  Mystery  Romance  \\\n",
       "0            0      0        0          0       0        0        0        0   \n",
       "1            0      0        0          0       0        0        0        0   \n",
       "2            0      0        0          0       0        0        0        0   \n",
       "3            0      1        0          0       0        0        0        0   \n",
       "4            0      1        0          0       0        0        0        0   \n",
       "\n",
       "   Sci-Fi  Thriller  War  Western  \n",
       "0       0         0    0        0  \n",
       "1       0         1    0        0  \n",
       "2       0         1    0        0  \n",
       "3       0         0    0        0  \n",
       "4       0         1    0        0  "
      ]
     },
     "execution_count": 6,
     "metadata": {},
     "output_type": "execute_result"
    }
   ],
   "source": [
    "# uitem.drop(['movie title', 'release date', 'video release date', 'IMDb URL'],\n",
    "#            axis='columns', inplace=True)\n",
    "# uitem.head()"
   ]
  },
  {
   "cell_type": "markdown",
   "metadata": {},
   "source": [
    "## p(g|i)"
   ]
  },
  {
   "cell_type": "code",
   "execution_count": 7,
   "metadata": {
    "ExecuteTime": {
     "end_time": "2021-07-22T19:38:43.753985Z",
     "start_time": "2021-07-22T19:38:43.751322Z"
    }
   },
   "outputs": [],
   "source": [
    "# import numpy as np"
   ]
  },
  {
   "cell_type": "code",
   "execution_count": 8,
   "metadata": {
    "ExecuteTime": {
     "end_time": "2021-07-22T19:38:46.822038Z",
     "start_time": "2021-07-22T19:38:46.817803Z"
    }
   },
   "outputs": [
    {
     "name": "stdout",
     "output_type": "stream",
     "text": [
      "[[   1    0    0 ...    0    0    0]\n",
      " [   2    0    1 ...    1    0    0]\n",
      " [   3    0    0 ...    1    0    0]\n",
      " ...\n",
      " [1680    0    0 ...    0    0    0]\n",
      " [1681    0    0 ...    0    0    0]\n",
      " [1682    0    0 ...    0    0    0]]\n",
      "\n",
      " (1682, 19)\n",
      "\n",
      " [[3]\n",
      " [3]\n",
      " [1]\n",
      " ...\n",
      " [2]\n",
      " [1]\n",
      " [1]]\n"
     ]
    }
   ],
   "source": [
    "# p_g_i = np.array(uitem)\n",
    "# print(p_g_i)\n",
    "# # the first column is the movie ids\n",
    "\n",
    "# print ('\\n', p_g_i[:,1:].shape)\n",
    "\n",
    "# # sum of all p_g_i (excluding the first column which is the item id)\n",
    "# vect = np.sum(p_g_i[:,1:], axis=1)[:,None]\n",
    "# print('\\n', vect)"
   ]
  },
  {
   "cell_type": "markdown",
   "metadata": {},
   "source": [
    "For each movie, there are several genres that are assigned to it. They have the same probabilities so it sums up to 1. So, we calculate the probabilities of genres for each movie separately."
   ]
  },
  {
   "cell_type": "code",
   "execution_count": 13,
   "metadata": {},
   "outputs": [
    {
     "data": {
      "text/plain": [
       "array([[0.        , 0.        , 0.        , 0.33333333, 0.33333333,\n",
       "        0.33333333, 0.        , 0.        , 0.        , 0.        ,\n",
       "        0.        , 0.        , 0.        , 0.        , 0.        ,\n",
       "        0.        , 0.        , 0.        , 0.        ],\n",
       "       [0.        , 0.33333333, 0.33333333, 0.        , 0.        ,\n",
       "        0.        , 0.        , 0.        , 0.        , 0.        ,\n",
       "        0.        , 0.        , 0.        , 0.        , 0.        ,\n",
       "        0.        , 0.33333333, 0.        , 0.        ]])"
      ]
     },
     "execution_count": 13,
     "metadata": {},
     "output_type": "execute_result"
    }
   ],
   "source": [
    "# p_g_i_final = p_g_i[:,1:]/vect[:]\n",
    "# p_g_i_final[:2]"
   ]
  },
  {
   "cell_type": "markdown",
   "metadata": {},
   "source": [
    "## p(g|u)\n",
    "p(g|u) is the sum of p(g|i) in the obsereved movies divided by the number of observed items by the user."
   ]
  },
  {
   "cell_type": "code",
   "execution_count": 21,
   "metadata": {},
   "outputs": [
    {
     "data": {
      "text/plain": [
       "array([0.        , 0.13333333, 0.06666667, 0.06666667, 0.06666667,\n",
       "       0.13333333, 0.06666667, 0.        , 0.13333333, 0.        ,\n",
       "       0.        , 0.        , 0.        , 0.        , 0.        ,\n",
       "       0.        , 0.33333333, 0.        , 0.        ])"
      ]
     },
     "execution_count": 21,
     "metadata": {},
     "output_type": "execute_result"
    }
   ],
   "source": [
    "# # let's imagine that item 1 to 5 are seen by the user, then..\n",
    "# p_g_i_final[:5].sum(axis=0)/5.0"
   ]
  },
  {
   "cell_type": "code",
   "execution_count": 25,
   "metadata": {},
   "outputs": [
    {
     "data": {
      "text/plain": [
       "array([0.        , 0.13333333, 0.06666667, 0.        , 0.        ,\n",
       "       0.06666667, 0.06666667, 0.        , 0.33333333, 0.        ,\n",
       "       0.        , 0.        , 0.        , 0.        , 0.        ,\n",
       "       0.        , 0.33333333, 0.        , 0.        ])"
      ]
     },
     "execution_count": 25,
     "metadata": {},
     "output_type": "execute_result"
    }
   ],
   "source": [
    "# p_g_i_final[[1,2,3,4,5]].sum(axis=0)/5.0"
   ]
  },
  {
   "cell_type": "code",
   "execution_count": 27,
   "metadata": {},
   "outputs": [
    {
     "data": {
      "text/plain": [
       "array([0.        , 0.13333333, 0.06666667, 0.        , 0.        ,\n",
       "       0.06666667, 0.06666667, 0.        , 0.13333333, 0.        ,\n",
       "       0.        , 0.        , 0.        , 0.        , 0.        ,\n",
       "       0.        , 0.33333333, 0.        , 0.        ])"
      ]
     },
     "execution_count": 27,
     "metadata": {},
     "output_type": "execute_result"
    }
   ],
   "source": [
    "# p_g_i_final[1:5].sum(axis=0)/5.0"
   ]
  },
  {
   "cell_type": "code",
   "execution_count": 33,
   "metadata": {},
   "outputs": [
    {
     "data": {
      "text/plain": [
       "array([[0.        , 0.        , 0.        , 0.33333333, 0.33333333,\n",
       "        0.33333333, 0.        , 0.        , 0.        , 0.        ,\n",
       "        0.        , 0.        , 0.        , 0.        , 0.        ,\n",
       "        0.        , 0.        , 0.        , 0.        ],\n",
       "       [0.        , 0.33333333, 0.33333333, 0.        , 0.        ,\n",
       "        0.        , 0.        , 0.        , 0.        , 0.        ,\n",
       "        0.        , 0.        , 0.        , 0.        , 0.        ,\n",
       "        0.        , 0.33333333, 0.        , 0.        ]])"
      ]
     },
     "execution_count": 33,
     "metadata": {},
     "output_type": "execute_result"
    }
   ],
   "source": [
    "# p_g_i_final[:2,:]"
   ]
  },
  {
   "cell_type": "code",
   "execution_count": 41,
   "metadata": {},
   "outputs": [
    {
     "data": {
      "text/plain": [
       "array([0.        , 0.13333333, 0.06666667, 0.        , 0.        ,\n",
       "       0.06666667, 0.06666667, 0.        , 0.33333333, 0.        ,\n",
       "       0.        , 0.        , 0.        , 0.        , 0.        ,\n",
       "       0.        , 0.33333333, 0.        , 0.        ])"
      ]
     },
     "execution_count": 41,
     "metadata": {},
     "output_type": "execute_result"
    }
   ],
   "source": [
    "# p_g_i_final[[1,2,3,4,5],:].sum(axis=0)/5.0"
   ]
  },
  {
   "cell_type": "code",
   "execution_count": 49,
   "metadata": {},
   "outputs": [
    {
     "data": {
      "text/plain": [
       "array([0.        , 0.13333333, 0.06666667, 0.        , 0.        ,\n",
       "       0.06666667, 0.06666667, 0.        , 0.33333333, 0.        ,\n",
       "       0.        , 0.        , 0.        , 0.        , 0.        ,\n",
       "       0.        , 0.33333333, 0.        , 0.        ])"
      ]
     },
     "execution_count": 49,
     "metadata": {},
     "output_type": "execute_result"
    }
   ],
   "source": [
    "# ComputeGenreDistribution([1,2,3,4,5], p_g_i_final)"
   ]
  },
  {
   "cell_type": "markdown",
   "metadata": {},
   "source": [
    "## aha!"
   ]
  },
  {
   "cell_type": "markdown",
   "metadata": {},
   "source": [
    "this is then p(g|u)!"
   ]
  },
  {
   "cell_type": "markdown",
   "metadata": {},
   "source": [
    "We can call this function for every user & compare her recommendations and her profile items."
   ]
  },
  {
   "cell_type": "code",
   "execution_count": null,
   "metadata": {},
   "outputs": [],
   "source": []
  }
 ],
 "metadata": {
  "kernelspec": {
   "display_name": "Python 3",
   "language": "python",
   "name": "python3"
  },
  "language_info": {
   "codemirror_mode": {
    "name": "ipython",
    "version": 3
   },
   "file_extension": ".py",
   "mimetype": "text/x-python",
   "name": "python",
   "nbconvert_exporter": "python",
   "pygments_lexer": "ipython3",
   "version": "3.8.5"
  },
  "toc": {
   "base_numbering": 1,
   "nav_menu": {},
   "number_sections": true,
   "sideBar": true,
   "skip_h1_title": false,
   "title_cell": "Table of Contents",
   "title_sidebar": "Contents",
   "toc_cell": false,
   "toc_position": {},
   "toc_section_display": true,
   "toc_window_display": false
  }
 },
 "nbformat": 4,
 "nbformat_minor": 4
}
